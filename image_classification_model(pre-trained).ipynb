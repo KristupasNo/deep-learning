{
  "nbformat": 4,
  "nbformat_minor": 0,
  "metadata": {
    "colab": {
      "provenance": []
    },
    "kernelspec": {
      "name": "python3",
      "display_name": "Python 3"
    },
    "language_info": {
      "name": "python"
    }
  },
  "cells": [
    {
      "cell_type": "markdown",
      "source": [
        "Kristupas Norvaiša"
      ],
      "metadata": {
        "id": "RFn-Go-lHMVJ"
      }
    },
    {
      "cell_type": "markdown",
      "source": [
        "Imports"
      ],
      "metadata": {
        "id": "WTVHKcAz87Km"
      }
    },
    {
      "cell_type": "code",
      "execution_count": null,
      "metadata": {
        "id": "VVBRJLGJ85oV"
      },
      "outputs": [],
      "source": [
        "import torch\n",
        "import torchvision\n",
        "import torch.nn.functional as F\n",
        "from torchvision import models, datasets, transforms\n",
        "from torch.utils.data import DataLoader\n",
        "from PIL import Image"
      ]
    },
    {
      "cell_type": "markdown",
      "source": [
        "Load the model ResNet50"
      ],
      "metadata": {
        "id": "PMrT8l9q9q4O"
      }
    },
    {
      "cell_type": "code",
      "source": [
        "device = torch.device('cuda:0' if torch.cuda.is_available() else 'cpu')\n",
        "model = models.resnet50(pretrained = True).to(device)\n",
        "model.eval()"
      ],
      "metadata": {
        "id": "dVRgnLYy9wz4"
      },
      "execution_count": null,
      "outputs": []
    },
    {
      "cell_type": "markdown",
      "source": [
        "Download and preprocess the data"
      ],
      "metadata": {
        "id": "vjiHiZYp9y7A"
      }
    },
    {
      "cell_type": "code",
      "source": [
        "!git clone https://github.com/EscVM/OIDv4_ToolKit.git\n",
        "!pip3 install -r /content/OIDv4_ToolKit/requirements.txt\n",
        "!python /content/OIDv4_ToolKit/main.py downloader --classes Goose Kite Magpie --type_csv train --limit 500\n",
        "data_loader = data_loader('/content/OID/Dataset/train', batch_size = 32)"
      ],
      "metadata": {
        "colab": {
          "base_uri": "https://localhost:8080/"
        },
        "id": "-WW6abIT90r-",
        "outputId": "7f117ade-362a-4a72-d3a8-0d3ee1b6ecbe"
      },
      "execution_count": null,
      "outputs": [
        {
          "output_type": "stream",
          "name": "stdout",
          "text": [
            "fatal: destination path 'OIDv4_ToolKit' already exists and is not an empty directory.\n",
            "\u001b[31mERROR: Operation cancelled by user\u001b[0m\u001b[31m\n",
            "\u001b[0m\u001b[92m\n",
            "\t\t   ___   _____  ______            _    _    \n",
            "\t\t .'   `.|_   _||_   _ `.         | |  | |   \n",
            "\t\t/  .-.  \\ | |    | | `. \\ _   __ | |__| |_  \n",
            "\t\t| |   | | | |    | |  | |[ \\ [  ]|____   _| \n",
            "\t\t\\  `-'  /_| |_  _| |_.' / \\ \\/ /     _| |_  \n",
            "\t\t `.___.'|_____||______.'   \\__/     |_____|\n",
            "\t\u001b[0m\n",
            "\u001b[92m\n",
            "             _____                    _                 _             \n",
            "            (____ \\                  | |               | |            \n",
            "             _   \\ \\ ___  _ _ _ ____ | | ___   ____  _ | | ____  ____ \n",
            "            | |   | / _ \\| | | |  _ \\| |/ _ \\ / _  |/ || |/ _  )/ ___)\n",
            "            | |__/ / |_| | | | | | | | | |_| ( ( | ( (_| ( (/ /| |    \n",
            "            |_____/ \\___/ \\____|_| |_|_|\\___/ \\_||_|\\____|\\____)_|    \n",
            "                                                          \n",
            "        \u001b[0m\n",
            "    [INFO] | Downloading Goose.\u001b[0m\n"
          ]
        }
      ]
    },
    {
      "cell_type": "markdown",
      "source": [
        "Open the classes labels file"
      ],
      "metadata": {
        "id": "oR4rspzG-P0V"
      }
    },
    {
      "cell_type": "code",
      "source": [
        "from google.colab import drive\n",
        "drive.mount('/content/drive', force_remount = True)\n",
        "with open('/content/drive/MyDrive/imagenet_classes.txt', 'r') as fid:\n",
        "  all_labels = [ln.strip() for ln in fid]"
      ],
      "metadata": {
        "id": "UTF_Nqj9-QmD"
      },
      "execution_count": null,
      "outputs": []
    },
    {
      "cell_type": "markdown",
      "source": [
        "Data loader"
      ],
      "metadata": {
        "id": "kCAcVGE4Avyo"
      }
    },
    {
      "cell_type": "code",
      "source": [
        "def data_loader(data_dir, batch_size, shuffle = False):\n",
        "    transform = transforms.Compose([transforms.Resize((224, 224)),\n",
        "                                    transforms.ToTensor(),\n",
        "                                    transforms.Normalize((0.485, 0.456, 0.406), (0.229, 0.224, 0.225))])\n",
        "\n",
        "    dataset = torchvision.datasets.ImageFolder('/content/OID/Dataset/train', transform = transform)\n",
        "    data_loader = torch.utils.data.DataLoader(dataset, batch_size=batch_size, shuffle = shuffle)\n",
        "    return data_loader"
      ],
      "metadata": {
        "id": "yOYFo8weAvWT"
      },
      "execution_count": null,
      "outputs": []
    },
    {
      "cell_type": "markdown",
      "source": [
        "Initialize empty lists for storing predicted classes and their probabilities"
      ],
      "metadata": {
        "id": "5VCbwdHC-TFO"
      }
    },
    {
      "cell_type": "code",
      "source": [
        "predicted_classes = []\n",
        "predicted_probs = []"
      ],
      "metadata": {
        "id": "XHmKUJ-Y-VJn"
      },
      "execution_count": null,
      "outputs": []
    },
    {
      "cell_type": "markdown",
      "source": [
        "Initialize empty lists for storing predicted and actual class ids"
      ],
      "metadata": {
        "id": "8I8EbcfO-Xd_"
      }
    },
    {
      "cell_type": "code",
      "source": [
        "predicted = []\n",
        "predicted_words = []\n",
        "actual = []"
      ],
      "metadata": {
        "id": "n6w5odCa-aPp"
      },
      "execution_count": null,
      "outputs": []
    },
    {
      "cell_type": "markdown",
      "source": [
        "Create, iterate over the categories and initialize empty lists for storing predicted classes and their probabilities. # 99 goose, 21 kite, 18 magpie."
      ],
      "metadata": {
        "id": "q6FTxhOA-cMx"
      }
    },
    {
      "cell_type": "code",
      "source": [
        "categories = [99,21,18]  \n",
        "threshold = 0.7;\n",
        "for i in range(len(categories)):\n",
        "  predicted_classes.append([])\n",
        "  predicted_probs.append([])"
      ],
      "metadata": {
        "id": "eWIY1ejt-c1H"
      },
      "execution_count": null,
      "outputs": []
    },
    {
      "cell_type": "markdown",
      "source": [
        "Define a function to convert the predicted probability into a binary label"
      ],
      "metadata": {
        "id": "agKihkzj-enj"
      }
    },
    {
      "cell_type": "code",
      "source": [
        "def convert_by_threshold_for_class(probs, id):\n",
        "  if(probs[id].item() > threshold):\n",
        "    return 1\n",
        "  return 0"
      ],
      "metadata": {
        "id": "BYgc_FCL-ioL"
      },
      "execution_count": null,
      "outputs": []
    },
    {
      "cell_type": "markdown",
      "source": [
        "Define a function to get the probability of a predicted class"
      ],
      "metadata": {
        "id": "Pc4vjzk3-kfU"
      }
    },
    {
      "cell_type": "code",
      "source": [
        "def convert_by_threshold_for_probs(probs, id):\n",
        "  return probs[id].item()"
      ],
      "metadata": {
        "id": "pdi1bImp-lw0"
      },
      "execution_count": null,
      "outputs": []
    },
    {
      "cell_type": "markdown",
      "source": [
        "Define a function to calculate the predicted classes and their probabilities for each image in the data loader"
      ],
      "metadata": {
        "id": "5U8a6571-nWO"
      }
    },
    {
      "cell_type": "code",
      "source": [
        "def calculate(output):\n",
        "    output_id = torch.argmax(output)\n",
        "    output_id = output_id.item()\n",
        "    predicted.append(output_id)\n",
        "    predicted_words.append(all_labels[output_id])\n",
        "\n",
        "    probs = F.softmax(output, dim=0)\n",
        "    for i, category in enumerate(categories):\n",
        "        predicted_add_m = predicted_classes[i]\n",
        "        predicted_add_p = predicted_probs[i]\n",
        "        predicted_add_m.append(convert_by_threshold_for_class(probs, category, threshold))\n",
        "        predicted_add_p.append(probs[category].item())"
      ],
      "metadata": {
        "id": "fl1RiCka-xSH"
      },
      "execution_count": null,
      "outputs": []
    },
    {
      "cell_type": "markdown",
      "source": [
        "Define a function to convert the actual class labels into a binary matrix"
      ],
      "metadata": {
        "id": "VSjN81B8-8z2"
      }
    },
    {
      "cell_type": "code",
      "source": [
        "def convert_actual_to_matrix(class_id, array):\n",
        "    return [1 if i == class_id else 0 for i in array]"
      ],
      "metadata": {
        "id": "iGu873n0--nJ"
      },
      "execution_count": null,
      "outputs": []
    },
    {
      "cell_type": "markdown",
      "source": [
        "Initialize variables for calculating metrics"
      ],
      "metadata": {
        "id": "2Cl8uN2S_AIY"
      }
    },
    {
      "cell_type": "code",
      "source": [
        "all_tp = 0\n",
        "all_fp = 0\n",
        "all_tn = 0\n",
        "all_fn = 0"
      ],
      "metadata": {
        "id": "Ds0DRN2i_BVb"
      },
      "execution_count": null,
      "outputs": []
    },
    {
      "cell_type": "markdown",
      "source": [
        "Define a function to calculate the evaluation metrics (accuracy, recall, precision, and F1-score) for a given set of predictions and actual labels"
      ],
      "metadata": {
        "id": "hGNqdT_h_DLV"
      }
    },
    {
      "cell_type": "code",
      "source": [
        "def calculate_metrics(ground_truth, predictions):\n",
        "\n",
        "    tp = sum(1 for gt, pred in zip(ground_truth, predictions) if gt == 1 and pred == 1)\n",
        "    fp = sum(1 for gt, pred in zip(ground_truth, predictions) if gt == 0 and pred == 1)\n",
        "    tn = sum(1 for gt, pred in zip(ground_truth, predictions) if gt == 0 and pred == 0)\n",
        "    fn = sum(1 for gt, pred in zip(ground_truth, predictions) if gt == 1 and pred == 0)\n",
        "    \n",
        "    global all_tp, all_fp, all_tn, all_fn\n",
        "    all_tp += tp\n",
        "    all_fp += fp\n",
        "    all_tn += tn \n",
        "    all_fn += fn\n",
        "\n",
        "    metrics = {}\n",
        "    metrics['accuracy'] = (tp + tn) / (tp + fp + tn + fn)\n",
        "    metrics['recall'] = tp / (tp + fn)\n",
        "    metrics['precision'] = tp / (tp + fp)\n",
        "    metrics['F1'] = 2 * (metrics['precision'] * metrics['recall']) / (metrics['precision'] + metrics['recall'])\n",
        "    return metrics"
      ],
      "metadata": {
        "id": "EiJogArX_Dvs"
      },
      "execution_count": 1,
      "outputs": []
    }
  ]
}
