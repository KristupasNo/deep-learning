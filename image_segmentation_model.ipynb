{
  "cells": [
    {
      "attachments": {},
      "cell_type": "markdown",
      "id": "kjzpwPTMRoUG",
      "metadata": {
        "id": "kjzpwPTMRoUG"
      },
      "source": [
        "Kristupas Norvaiša"
      ]
    },
    {
      "attachments": {},
      "cell_type": "markdown",
      "id": "jJTVnZQo9FbF",
      "metadata": {
        "id": "jJTVnZQo9FbF"
      },
      "source": [
        "Imports"
      ]
    },
    {
      "cell_type": "code",
      "execution_count": 1,
      "id": "49aa7ad9-b30e-410e-82de-55df2397c4bf",
      "metadata": {
        "colab": {
          "base_uri": "https://localhost:8080/"
        },
        "id": "49aa7ad9-b30e-410e-82de-55df2397c4bf",
        "outputId": "9060aafd-3cdf-4a5b-cf6b-3eba30479034",
        "tags": []
      },
      "outputs": [
        {
          "name": "stdout",
          "output_type": "stream",
          "text": [
            "Looking in indexes: https://pypi.org/simple, https://us-python.pkg.dev/colab-wheels/public/simple/\n",
            "Collecting fiftyone\n",
            "  Downloading fiftyone-0.20.1-py3-none-any.whl (7.3 MB)\n",
            "\u001b[2K     \u001b[90m━━━━━━━━━━━━━━━━━━━━━━━━━━━━━━━━━━━━━━━━\u001b[0m \u001b[32m7.3/7.3 MB\u001b[0m \u001b[31m35.5 MB/s\u001b[0m eta \u001b[36m0:00:00\u001b[0m\n",
            "\u001b[?25hRequirement already satisfied: tensorflow in /usr/local/lib/python3.10/dist-packages (2.12.0)\n",
            "Requirement already satisfied: torch in /usr/local/lib/python3.10/dist-packages (2.0.0+cu118)\n",
            "Requirement already satisfied: torchvision in /usr/local/lib/python3.10/dist-packages (0.15.1+cu118)\n",
            "Collecting umap-learn\n",
            "  Downloading umap-learn-0.5.3.tar.gz (88 kB)\n",
            "\u001b[2K     \u001b[90m━━━━━━━━━━━━━━━━━━━━━━━━━━━━━━━━━━━━━━━━\u001b[0m \u001b[32m88.2/88.2 kB\u001b[0m \u001b[31m9.2 MB/s\u001b[0m eta \u001b[36m0:00:00\u001b[0m\n",
            "\u001b[?25h  Preparing metadata (setup.py) ... \u001b[?25l\u001b[?25hdone\n",
            "Requirement already satisfied: ipywidgets<8,>=7.5 in /usr/local/lib/python3.10/dist-packages (7.7.1)\n",
            "Collecting aiofiles (from fiftyone)\n",
            "  Downloading aiofiles-23.1.0-py3-none-any.whl (14 kB)\n",
            "Collecting argcomplete (from fiftyone)\n",
            "  Downloading argcomplete-3.0.8-py3-none-any.whl (40 kB)\n",
            "\u001b[2K     \u001b[90m━━━━━━━━━━━━━━━━━━━━━━━━━━━━━━━━━━━━━━━━\u001b[0m \u001b[32m40.0/40.0 kB\u001b[0m \u001b[31m3.1 MB/s\u001b[0m eta \u001b[36m0:00:00\u001b[0m\n",
            "\u001b[?25hCollecting boto3 (from fiftyone)\n",
            "  Downloading boto3-1.26.133-py3-none-any.whl (135 kB)\n",
            "\u001b[2K     \u001b[90m━━━━━━━━━━━━━━━━━━━━━━━━━━━━━━━━━━━━━━━\u001b[0m \u001b[32m135.6/135.6 kB\u001b[0m \u001b[31m2.6 MB/s\u001b[0m eta \u001b[36m0:00:00\u001b[0m\n",
            "\u001b[?25hRequirement already satisfied: cachetools in /usr/local/lib/python3.10/dist-packages (from fiftyone) (5.3.0)\n",
            "Collecting dacite<1.8.0,>=1.6.0 (from fiftyone)\n",
            "  Downloading dacite-1.7.0-py3-none-any.whl (12 kB)\n",
            "Collecting Deprecated (from fiftyone)\n",
            "  Downloading Deprecated-1.2.13-py2.py3-none-any.whl (9.6 kB)\n",
            "Collecting eventlet (from fiftyone)\n",
            "  Downloading eventlet-0.33.3-py2.py3-none-any.whl (226 kB)\n",
            "\u001b[2K     \u001b[90m━━━━━━━━━━━━━━━━━━━━━━━━━━━━━━━━━━━━━━\u001b[0m \u001b[32m226.8/226.8 kB\u001b[0m \u001b[31m14.4 MB/s\u001b[0m eta \u001b[36m0:00:00\u001b[0m\n",
            "\u001b[?25hCollecting ftfy (from fiftyone)\n",
            "  Downloading ftfy-6.1.1-py3-none-any.whl (53 kB)\n",
            "\u001b[2K     \u001b[90m━━━━━━━━━━━━━━━━━━━━━━━━━━━━━━━━━━━━━━━━\u001b[0m \u001b[32m53.1/53.1 kB\u001b[0m \u001b[31m3.8 MB/s\u001b[0m eta \u001b[36m0:00:00\u001b[0m\n",
            "\u001b[?25hRequirement already satisfied: future in /usr/local/lib/python3.10/dist-packages (from fiftyone) (0.18.3)\n",
            "Collecting hypercorn>=0.13.2 (from fiftyone)\n",
            "  Downloading Hypercorn-0.14.3-py3-none-any.whl (57 kB)\n",
            "\u001b[2K     \u001b[90m━━━━━━━━━━━━━━━━━━━━━━━━━━━━━━━━━━━━━━━━\u001b[0m \u001b[32m57.9/57.9 kB\u001b[0m \u001b[31m4.7 MB/s\u001b[0m eta \u001b[36m0:00:00\u001b[0m\n",
            "\u001b[?25hRequirement already satisfied: Jinja2>=3 in /usr/local/lib/python3.10/dist-packages (from fiftyone) (3.1.2)\n",
            "Collecting kaleido (from fiftyone)\n",
            "  Downloading kaleido-0.2.1-py2.py3-none-manylinux1_x86_64.whl (79.9 MB)\n",
            "\u001b[2K     \u001b[90m━━━━━━━━━━━━━━━━━━━━━━━━━━━━━━━━━━━━━━━━\u001b[0m \u001b[32m79.9/79.9 MB\u001b[0m \u001b[31m8.1 MB/s\u001b[0m eta \u001b[36m0:00:00\u001b[0m\n",
            "\u001b[?25hRequirement already satisfied: matplotlib in /usr/local/lib/python3.10/dist-packages (from fiftyone) (3.7.1)\n",
            "Collecting mongoengine==0.24.2 (from fiftyone)\n",
            "  Downloading mongoengine-0.24.2-py3-none-any.whl (108 kB)\n",
            "\u001b[2K     \u001b[90m━━━━━━━━━━━━━━━━━━━━━━━━━━━━━━━━━━━━━━━\u001b[0m \u001b[32m108.9/108.9 kB\u001b[0m \u001b[31m8.6 MB/s\u001b[0m eta \u001b[36m0:00:00\u001b[0m\n",
            "\u001b[?25hCollecting motor>=2.5 (from fiftyone)\n",
            "  Downloading motor-3.1.2-py3-none-any.whl (56 kB)\n",
            "\u001b[2K     \u001b[90m━━━━━━━━━━━━━━━━━━━━━━━━━━━━━━━━━━━━━━━━\u001b[0m \u001b[32m56.5/56.5 kB\u001b[0m \u001b[31m4.5 MB/s\u001b[0m eta \u001b[36m0:00:00\u001b[0m\n",
            "\u001b[?25hRequirement already satisfied: numpy in /usr/local/lib/python3.10/dist-packages (from fiftyone) (1.22.4)\n",
            "Requirement already satisfied: packaging in /usr/local/lib/python3.10/dist-packages (from fiftyone) (23.1)\n",
            "Requirement already satisfied: pandas in /usr/local/lib/python3.10/dist-packages (from fiftyone) (1.5.3)\n",
            "Requirement already satisfied: Pillow>=6.2 in /usr/local/lib/python3.10/dist-packages (from fiftyone) (8.4.0)\n",
            "Requirement already satisfied: plotly>=4.14 in /usr/local/lib/python3.10/dist-packages (from fiftyone) (5.13.1)\n",
            "Collecting pprintpp (from fiftyone)\n",
            "  Downloading pprintpp-0.4.0-py2.py3-none-any.whl (16 kB)\n",
            "Requirement already satisfied: psutil in /usr/local/lib/python3.10/dist-packages (from fiftyone) (5.9.5)\n",
            "Collecting pymongo>=3.12 (from fiftyone)\n",
            "  Downloading pymongo-4.3.3-cp310-cp310-manylinux_2_17_x86_64.manylinux2014_x86_64.whl (492 kB)\n",
            "\u001b[2K     \u001b[90m━━━━━━━━━━━━━━━━━━━━━━━━━━━━━━━━━━━━━━━\u001b[0m \u001b[32m492.9/492.9 kB\u001b[0m \u001b[31m6.2 MB/s\u001b[0m eta \u001b[36m0:00:00\u001b[0m\n",
            "\u001b[?25hRequirement already satisfied: pytz in /usr/local/lib/python3.10/dist-packages (from fiftyone) (2022.7.1)\n",
            "Requirement already satisfied: PyYAML in /usr/local/lib/python3.10/dist-packages (from fiftyone) (6.0)\n",
            "Requirement already satisfied: regex in /usr/local/lib/python3.10/dist-packages (from fiftyone) (2022.10.31)\n",
            "Collecting retrying (from fiftyone)\n",
            "  Downloading retrying-1.3.4-py3-none-any.whl (11 kB)\n",
            "Requirement already satisfied: scikit-learn in /usr/local/lib/python3.10/dist-packages (from fiftyone) (1.2.2)\n",
            "Requirement already satisfied: scikit-image in /usr/local/lib/python3.10/dist-packages (from fiftyone) (0.19.3)\n",
            "Requirement already satisfied: setuptools in /usr/local/lib/python3.10/dist-packages (from fiftyone) (67.7.2)\n",
            "Collecting sseclient-py<2,>=1.7.2 (from fiftyone)\n",
            "  Downloading sseclient_py-1.7.2-py2.py3-none-any.whl (8.4 kB)\n",
            "Collecting sse-starlette<1,>=0.10.3 (from fiftyone)\n",
            "  Downloading sse_starlette-0.10.3-py3-none-any.whl (8.0 kB)\n",
            "Collecting starlette==0.20.4 (from fiftyone)\n",
            "  Downloading starlette-0.20.4-py3-none-any.whl (63 kB)\n",
            "\u001b[2K     \u001b[90m━━━━━━━━━━━━━━━━━━━━━━━━━━━━━━━━━━━━━━━━\u001b[0m \u001b[32m63.6/63.6 kB\u001b[0m \u001b[31m1.9 MB/s\u001b[0m eta \u001b[36m0:00:00\u001b[0m\n",
            "\u001b[?25hCollecting strawberry-graphql==0.138.1 (from fiftyone)\n",
            "  Downloading strawberry_graphql-0.138.1-py3-none-any.whl (192 kB)\n",
            "\u001b[2K     \u001b[90m━━━━━━━━━━━━━━━━━━━━━━━━━━━━━━━━━━━━━━━\u001b[0m \u001b[32m192.5/192.5 kB\u001b[0m \u001b[31m2.4 MB/s\u001b[0m eta \u001b[36m0:00:00\u001b[0m\n",
            "\u001b[?25hRequirement already satisfied: tabulate in /usr/local/lib/python3.10/dist-packages (from fiftyone) (0.8.10)\n",
            "Collecting xmltodict (from fiftyone)\n",
            "  Downloading xmltodict-0.13.0-py2.py3-none-any.whl (10.0 kB)\n",
            "Collecting universal-analytics-python3<2,>=1.0.1 (from fiftyone)\n",
            "  Downloading universal_analytics_python3-1.1.1-py3-none-any.whl (10 kB)\n",
            "Collecting fiftyone-brain<0.12,>=0.11 (from fiftyone)\n",
            "  Downloading fiftyone_brain-0.11.0-py3-none-any.whl (68 kB)\n",
            "\u001b[2K     \u001b[90m━━━━━━━━━━━━━━━━━━━━━━━━━━━━━━━━━━━━━━━━\u001b[0m \u001b[32m68.9/68.9 kB\u001b[0m \u001b[31m7.5 MB/s\u001b[0m eta \u001b[36m0:00:00\u001b[0m\n",
            "\u001b[?25hCollecting fiftyone-db<0.5,>=0.4 (from fiftyone)\n",
            "  Downloading fiftyone_db-0.4.0-py3-none-manylinux1_x86_64.whl (37.8 MB)\n",
            "\u001b[2K     \u001b[90m━━━━━━━━━━━━━━━━━━━━━━━━━━━━━━━━━━━━━━━━\u001b[0m \u001b[32m37.8/37.8 MB\u001b[0m \u001b[31m10.9 MB/s\u001b[0m eta \u001b[36m0:00:00\u001b[0m\n",
            "\u001b[?25hCollecting voxel51-eta<0.10,>=0.9 (from fiftyone)\n",
            "  Downloading voxel51_eta-0.9.0-py2.py3-none-any.whl (568 kB)\n",
            "\u001b[2K     \u001b[90m━━━━━━━━━━━━━━━━━━━━━━━━━━━━━━━━━━━━━━\u001b[0m \u001b[32m568.2/568.2 kB\u001b[0m \u001b[31m26.8 MB/s\u001b[0m eta \u001b[36m0:00:00\u001b[0m\n",
            "\u001b[?25hRequirement already satisfied: opencv-python-headless in /usr/local/lib/python3.10/dist-packages (from fiftyone) (4.7.0.72)\n",
            "Requirement already satisfied: anyio<5,>=3.4.0 in /usr/local/lib/python3.10/dist-packages (from starlette==0.20.4->fiftyone) (3.6.2)\n",
            "Collecting graphql-core<3.3.0,>=3.2.0 (from strawberry-graphql==0.138.1->fiftyone)\n",
            "  Downloading graphql_core-3.2.3-py3-none-any.whl (202 kB)\n",
            "\u001b[2K     \u001b[90m━━━━━━━━━━━━━━━━━━━━━━━━━━━━━━━━━━━━━━\u001b[0m \u001b[32m202.9/202.9 kB\u001b[0m \u001b[31m19.5 MB/s\u001b[0m eta \u001b[36m0:00:00\u001b[0m\n",
            "\u001b[?25hRequirement already satisfied: python-dateutil<3.0.0,>=2.7.0 in /usr/local/lib/python3.10/dist-packages (from strawberry-graphql==0.138.1->fiftyone) (2.8.2)\n",
            "Requirement already satisfied: typing_extensions<5.0.0,>=3.7.4 in /usr/local/lib/python3.10/dist-packages (from strawberry-graphql==0.138.1->fiftyone) (4.5.0)\n",
            "Requirement already satisfied: absl-py>=1.0.0 in /usr/local/lib/python3.10/dist-packages (from tensorflow) (1.4.0)\n",
            "Requirement already satisfied: astunparse>=1.6.0 in /usr/local/lib/python3.10/dist-packages (from tensorflow) (1.6.3)\n",
            "Requirement already satisfied: flatbuffers>=2.0 in /usr/local/lib/python3.10/dist-packages (from tensorflow) (23.3.3)\n",
            "Requirement already satisfied: gast<=0.4.0,>=0.2.1 in /usr/local/lib/python3.10/dist-packages (from tensorflow) (0.4.0)\n",
            "Requirement already satisfied: google-pasta>=0.1.1 in /usr/local/lib/python3.10/dist-packages (from tensorflow) (0.2.0)\n",
            "Requirement already satisfied: grpcio<2.0,>=1.24.3 in /usr/local/lib/python3.10/dist-packages (from tensorflow) (1.54.0)\n",
            "Requirement already satisfied: h5py>=2.9.0 in /usr/local/lib/python3.10/dist-packages (from tensorflow) (3.8.0)\n",
            "Requirement already satisfied: jax>=0.3.15 in /usr/local/lib/python3.10/dist-packages (from tensorflow) (0.4.8)\n",
            "Requirement already satisfied: keras<2.13,>=2.12.0 in /usr/local/lib/python3.10/dist-packages (from tensorflow) (2.12.0)\n",
            "Requirement already satisfied: libclang>=13.0.0 in /usr/local/lib/python3.10/dist-packages (from tensorflow) (16.0.0)\n",
            "Requirement already satisfied: opt-einsum>=2.3.2 in /usr/local/lib/python3.10/dist-packages (from tensorflow) (3.3.0)\n",
            "Requirement already satisfied: protobuf!=4.21.0,!=4.21.1,!=4.21.2,!=4.21.3,!=4.21.4,!=4.21.5,<5.0.0dev,>=3.20.3 in /usr/local/lib/python3.10/dist-packages (from tensorflow) (3.20.3)\n",
            "Requirement already satisfied: six>=1.12.0 in /usr/local/lib/python3.10/dist-packages (from tensorflow) (1.16.0)\n",
            "Requirement already satisfied: tensorboard<2.13,>=2.12 in /usr/local/lib/python3.10/dist-packages (from tensorflow) (2.12.2)\n",
            "Requirement already satisfied: tensorflow-estimator<2.13,>=2.12.0 in /usr/local/lib/python3.10/dist-packages (from tensorflow) (2.12.0)\n",
            "Requirement already satisfied: termcolor>=1.1.0 in /usr/local/lib/python3.10/dist-packages (from tensorflow) (2.3.0)\n",
            "Requirement already satisfied: wrapt<1.15,>=1.11.0 in /usr/local/lib/python3.10/dist-packages (from tensorflow) (1.14.1)\n",
            "Requirement already satisfied: tensorflow-io-gcs-filesystem>=0.23.1 in /usr/local/lib/python3.10/dist-packages (from tensorflow) (0.32.0)\n",
            "Requirement already satisfied: filelock in /usr/local/lib/python3.10/dist-packages (from torch) (3.12.0)\n",
            "Requirement already satisfied: sympy in /usr/local/lib/python3.10/dist-packages (from torch) (1.11.1)\n",
            "Requirement already satisfied: networkx in /usr/local/lib/python3.10/dist-packages (from torch) (3.1)\n",
            "Requirement already satisfied: triton==2.0.0 in /usr/local/lib/python3.10/dist-packages (from torch) (2.0.0)\n",
            "Requirement already satisfied: cmake in /usr/local/lib/python3.10/dist-packages (from triton==2.0.0->torch) (3.25.2)\n",
            "Requirement already satisfied: lit in /usr/local/lib/python3.10/dist-packages (from triton==2.0.0->torch) (16.0.3)\n",
            "Requirement already satisfied: requests in /usr/local/lib/python3.10/dist-packages (from torchvision) (2.27.1)\n",
            "Requirement already satisfied: scipy>=1.0 in /usr/local/lib/python3.10/dist-packages (from umap-learn) (1.10.1)\n",
            "Requirement already satisfied: numba>=0.49 in /usr/local/lib/python3.10/dist-packages (from umap-learn) (0.56.4)\n",
            "Collecting pynndescent>=0.5 (from umap-learn)\n",
            "  Downloading pynndescent-0.5.10.tar.gz (1.1 MB)\n",
            "\u001b[2K     \u001b[90m━━━━━━━━━━━━━━━━━━━━━━━━━━━━━━━━━━━━━━━━\u001b[0m \u001b[32m1.1/1.1 MB\u001b[0m \u001b[31m26.1 MB/s\u001b[0m eta \u001b[36m0:00:00\u001b[0m\n",
            "\u001b[?25h  Preparing metadata (setup.py) ... \u001b[?25l\u001b[?25hdone\n",
            "Requirement already satisfied: tqdm in /usr/local/lib/python3.10/dist-packages (from umap-learn) (4.65.0)\n",
            "Requirement already satisfied: ipykernel>=4.5.1 in /usr/local/lib/python3.10/dist-packages (from ipywidgets<8,>=7.5) (5.5.6)\n",
            "Requirement already satisfied: ipython-genutils~=0.2.0 in /usr/local/lib/python3.10/dist-packages (from ipywidgets<8,>=7.5) (0.2.0)\n",
            "Requirement already satisfied: traitlets>=4.3.1 in /usr/local/lib/python3.10/dist-packages (from ipywidgets<8,>=7.5) (5.7.1)\n",
            "Requirement already satisfied: widgetsnbextension~=3.6.0 in /usr/local/lib/python3.10/dist-packages (from ipywidgets<8,>=7.5) (3.6.4)\n",
            "Requirement already satisfied: ipython>=4.0.0 in /usr/local/lib/python3.10/dist-packages (from ipywidgets<8,>=7.5) (7.34.0)\n",
            "Requirement already satisfied: jupyterlab-widgets>=1.0.0 in /usr/local/lib/python3.10/dist-packages (from ipywidgets<8,>=7.5) (3.0.7)\n",
            "Requirement already satisfied: wheel<1.0,>=0.23.0 in /usr/local/lib/python3.10/dist-packages (from astunparse>=1.6.0->tensorflow) (0.40.0)\n",
            "Collecting h11 (from hypercorn>=0.13.2->fiftyone)\n",
            "  Downloading h11-0.14.0-py3-none-any.whl (58 kB)\n",
            "\u001b[2K     \u001b[90m━━━━━━━━━━━━━━━━━━━━━━━━━━━━━━━━━━━━━━━━\u001b[0m \u001b[32m58.3/58.3 kB\u001b[0m \u001b[31m8.2 MB/s\u001b[0m eta \u001b[36m0:00:00\u001b[0m\n",
            "\u001b[?25hCollecting h2>=3.1.0 (from hypercorn>=0.13.2->fiftyone)\n",
            "  Downloading h2-4.1.0-py3-none-any.whl (57 kB)\n",
            "\u001b[2K     \u001b[90m━━━━━━━━━━━━━━━━━━━━━━━━━━━━━━━━━━━━━━━━\u001b[0m \u001b[32m57.5/57.5 kB\u001b[0m \u001b[31m7.7 MB/s\u001b[0m eta \u001b[36m0:00:00\u001b[0m\n",
            "\u001b[?25hCollecting priority (from hypercorn>=0.13.2->fiftyone)\n",
            "  Downloading priority-2.0.0-py3-none-any.whl (8.9 kB)\n",
            "Requirement already satisfied: toml in /usr/local/lib/python3.10/dist-packages (from hypercorn>=0.13.2->fiftyone) (0.10.2)\n",
            "Collecting wsproto>=0.14.0 (from hypercorn>=0.13.2->fiftyone)\n",
            "  Downloading wsproto-1.2.0-py3-none-any.whl (24 kB)\n",
            "Requirement already satisfied: jupyter-client in /usr/local/lib/python3.10/dist-packages (from ipykernel>=4.5.1->ipywidgets<8,>=7.5) (6.1.12)\n",
            "Requirement already satisfied: tornado>=4.2 in /usr/local/lib/python3.10/dist-packages (from ipykernel>=4.5.1->ipywidgets<8,>=7.5) (6.3.1)\n",
            "Collecting jedi>=0.16 (from ipython>=4.0.0->ipywidgets<8,>=7.5)\n",
            "  Downloading jedi-0.18.2-py2.py3-none-any.whl (1.6 MB)\n",
            "\u001b[2K     \u001b[90m━━━━━━━━━━━━━━━━━━━━━━━━━━━━━━━━━━━━━━━━\u001b[0m \u001b[32m1.6/1.6 MB\u001b[0m \u001b[31m69.1 MB/s\u001b[0m eta \u001b[36m0:00:00\u001b[0m\n",
            "\u001b[?25hRequirement already satisfied: decorator in /usr/local/lib/python3.10/dist-packages (from ipython>=4.0.0->ipywidgets<8,>=7.5) (4.4.2)\n",
            "Requirement already satisfied: pickleshare in /usr/local/lib/python3.10/dist-packages (from ipython>=4.0.0->ipywidgets<8,>=7.5) (0.7.5)\n",
            "Requirement already satisfied: prompt-toolkit!=3.0.0,!=3.0.1,<3.1.0,>=2.0.0 in /usr/local/lib/python3.10/dist-packages (from ipython>=4.0.0->ipywidgets<8,>=7.5) (3.0.38)\n",
            "Requirement already satisfied: pygments in /usr/local/lib/python3.10/dist-packages (from ipython>=4.0.0->ipywidgets<8,>=7.5) (2.14.0)\n",
            "Requirement already satisfied: backcall in /usr/local/lib/python3.10/dist-packages (from ipython>=4.0.0->ipywidgets<8,>=7.5) (0.2.0)\n",
            "Requirement already satisfied: matplotlib-inline in /usr/local/lib/python3.10/dist-packages (from ipython>=4.0.0->ipywidgets<8,>=7.5) (0.1.6)\n",
            "Requirement already satisfied: pexpect>4.3 in /usr/local/lib/python3.10/dist-packages (from ipython>=4.0.0->ipywidgets<8,>=7.5) (4.8.0)\n",
            "Requirement already satisfied: ml-dtypes>=0.0.3 in /usr/local/lib/python3.10/dist-packages (from jax>=0.3.15->tensorflow) (0.1.0)\n",
            "Requirement already satisfied: MarkupSafe>=2.0 in /usr/local/lib/python3.10/dist-packages (from Jinja2>=3->fiftyone) (2.1.2)\n",
            "Requirement already satisfied: llvmlite<0.40,>=0.39.0dev0 in /usr/local/lib/python3.10/dist-packages (from numba>=0.49->umap-learn) (0.39.1)\n",
            "Requirement already satisfied: tenacity>=6.2.0 in /usr/local/lib/python3.10/dist-packages (from plotly>=4.14->fiftyone) (8.2.2)\n",
            "Collecting dnspython<3.0.0,>=1.16.0 (from pymongo>=3.12->fiftyone)\n",
            "  Downloading dnspython-2.3.0-py3-none-any.whl (283 kB)\n",
            "\u001b[2K     \u001b[90m━━━━━━━━━━━━━━━━━━━━━━━━━━━━━━━━━━━━━━\u001b[0m \u001b[32m283.7/283.7 kB\u001b[0m \u001b[31m35.1 MB/s\u001b[0m eta \u001b[36m0:00:00\u001b[0m\n",
            "\u001b[?25hRequirement already satisfied: joblib>=0.11 in /usr/local/lib/python3.10/dist-packages (from pynndescent>=0.5->umap-learn) (1.2.0)\n",
            "Requirement already satisfied: threadpoolctl>=2.0.0 in /usr/local/lib/python3.10/dist-packages (from scikit-learn->fiftyone) (3.1.0)\n",
            "Requirement already satisfied: google-auth<3,>=1.6.3 in /usr/local/lib/python3.10/dist-packages (from tensorboard<2.13,>=2.12->tensorflow) (2.17.3)\n",
            "Requirement already satisfied: google-auth-oauthlib<1.1,>=0.5 in /usr/local/lib/python3.10/dist-packages (from tensorboard<2.13,>=2.12->tensorflow) (1.0.0)\n",
            "Requirement already satisfied: markdown>=2.6.8 in /usr/local/lib/python3.10/dist-packages (from tensorboard<2.13,>=2.12->tensorflow) (3.4.3)\n",
            "Requirement already satisfied: tensorboard-data-server<0.8.0,>=0.7.0 in /usr/local/lib/python3.10/dist-packages (from tensorboard<2.13,>=2.12->tensorflow) (0.7.0)\n",
            "Requirement already satisfied: tensorboard-plugin-wit>=1.6.0 in /usr/local/lib/python3.10/dist-packages (from tensorboard<2.13,>=2.12->tensorflow) (1.8.1)\n",
            "Requirement already satisfied: werkzeug>=1.0.1 in /usr/local/lib/python3.10/dist-packages (from tensorboard<2.13,>=2.12->tensorflow) (2.3.0)\n",
            "Requirement already satisfied: urllib3<1.27,>=1.21.1 in /usr/local/lib/python3.10/dist-packages (from requests->torchvision) (1.26.15)\n",
            "Requirement already satisfied: certifi>=2017.4.17 in /usr/local/lib/python3.10/dist-packages (from requests->torchvision) (2022.12.7)\n",
            "Requirement already satisfied: charset-normalizer~=2.0.0 in /usr/local/lib/python3.10/dist-packages (from requests->torchvision) (2.0.12)\n",
            "Requirement already satisfied: idna<4,>=2.5 in /usr/local/lib/python3.10/dist-packages (from requests->torchvision) (3.4)\n",
            "Collecting httpx>=0.10.0 (from universal-analytics-python3<2,>=1.0.1->fiftyone)\n",
            "  Downloading httpx-0.24.0-py3-none-any.whl (75 kB)\n",
            "\u001b[2K     \u001b[90m━━━━━━━━━━━━━━━━━━━━━━━━━━━━━━━━━━━━━━━━\u001b[0m \u001b[32m75.3/75.3 kB\u001b[0m \u001b[31m9.3 MB/s\u001b[0m eta \u001b[36m0:00:00\u001b[0m\n",
            "\u001b[?25hCollecting dill (from voxel51-eta<0.10,>=0.9->fiftyone)\n",
            "  Downloading dill-0.3.6-py3-none-any.whl (110 kB)\n",
            "\u001b[2K     \u001b[90m━━━━━━━━━━━━━━━━━━━━━━━━━━━━━━━━━━━━━━━\u001b[0m \u001b[32m110.5/110.5 kB\u001b[0m \u001b[31m7.9 MB/s\u001b[0m eta \u001b[36m0:00:00\u001b[0m\n",
            "\u001b[?25hRequirement already satisfied: glob2 in /usr/local/lib/python3.10/dist-packages (from voxel51-eta<0.10,>=0.9->fiftyone) (0.7)\n",
            "Collecting jsonlines (from voxel51-eta<0.10,>=0.9->fiftyone)\n",
            "  Downloading jsonlines-3.1.0-py3-none-any.whl (8.6 kB)\n",
            "Collecting py7zr (from voxel51-eta<0.10,>=0.9->fiftyone)\n",
            "  Downloading py7zr-0.20.5-py3-none-any.whl (66 kB)\n",
            "\u001b[2K     \u001b[90m━━━━━━━━━━━━━━━━━━━━━━━━━━━━━━━━━━━━━━━━\u001b[0m \u001b[32m66.4/66.4 kB\u001b[0m \u001b[31m9.7 MB/s\u001b[0m eta \u001b[36m0:00:00\u001b[0m\n",
            "\u001b[?25hCollecting rarfile (from voxel51-eta<0.10,>=0.9->fiftyone)\n",
            "  Downloading rarfile-4.0-py3-none-any.whl (28 kB)\n",
            "Requirement already satisfied: sortedcontainers in /usr/local/lib/python3.10/dist-packages (from voxel51-eta<0.10,>=0.9->fiftyone) (2.4.0)\n",
            "Requirement already satisfied: tzlocal in /usr/local/lib/python3.10/dist-packages (from voxel51-eta<0.10,>=0.9->fiftyone) (4.3)\n",
            "Requirement already satisfied: notebook>=4.4.1 in /usr/local/lib/python3.10/dist-packages (from widgetsnbextension~=3.6.0->ipywidgets<8,>=7.5) (6.4.8)\n",
            "Collecting botocore<1.30.0,>=1.29.133 (from boto3->fiftyone)\n",
            "  Downloading botocore-1.29.133-py3-none-any.whl (10.7 MB)\n",
            "\u001b[2K     \u001b[90m━━━━━━━━━━━━━━━━━━━━━━━━━━━━━━━━━━━━━━━\u001b[0m \u001b[32m10.7/10.7 MB\u001b[0m \u001b[31m109.6 MB/s\u001b[0m eta \u001b[36m0:00:00\u001b[0m\n",
            "\u001b[?25hCollecting jmespath<2.0.0,>=0.7.1 (from boto3->fiftyone)\n",
            "  Downloading jmespath-1.0.1-py3-none-any.whl (20 kB)\n",
            "Collecting s3transfer<0.7.0,>=0.6.0 (from boto3->fiftyone)\n",
            "  Downloading s3transfer-0.6.1-py3-none-any.whl (79 kB)\n",
            "\u001b[2K     \u001b[90m━━━━━━━━━━━━━━━━━━━━━━━━━━━━━━━━━━━━━━━━\u001b[0m \u001b[32m79.8/79.8 kB\u001b[0m \u001b[31m10.5 MB/s\u001b[0m eta \u001b[36m0:00:00\u001b[0m\n",
            "\u001b[?25hRequirement already satisfied: greenlet>=0.3 in /usr/local/lib/python3.10/dist-packages (from eventlet->fiftyone) (2.0.2)\n",
            "Requirement already satisfied: wcwidth>=0.2.5 in /usr/local/lib/python3.10/dist-packages (from ftfy->fiftyone) (0.2.6)\n",
            "Requirement already satisfied: contourpy>=1.0.1 in /usr/local/lib/python3.10/dist-packages (from matplotlib->fiftyone) (1.0.7)\n",
            "Requirement already satisfied: cycler>=0.10 in /usr/local/lib/python3.10/dist-packages (from matplotlib->fiftyone) (0.11.0)\n",
            "Requirement already satisfied: fonttools>=4.22.0 in /usr/local/lib/python3.10/dist-packages (from matplotlib->fiftyone) (4.39.3)\n",
            "Requirement already satisfied: kiwisolver>=1.0.1 in /usr/local/lib/python3.10/dist-packages (from matplotlib->fiftyone) (1.4.4)\n",
            "Requirement already satisfied: pyparsing>=2.3.1 in /usr/local/lib/python3.10/dist-packages (from matplotlib->fiftyone) (3.0.9)\n",
            "Requirement already satisfied: imageio>=2.4.1 in /usr/local/lib/python3.10/dist-packages (from scikit-image->fiftyone) (2.25.1)\n",
            "Requirement already satisfied: tifffile>=2019.7.26 in /usr/local/lib/python3.10/dist-packages (from scikit-image->fiftyone) (2023.4.12)\n",
            "Requirement already satisfied: PyWavelets>=1.1.1 in /usr/local/lib/python3.10/dist-packages (from scikit-image->fiftyone) (1.4.1)\n",
            "Requirement already satisfied: mpmath>=0.19 in /usr/local/lib/python3.10/dist-packages (from sympy->torch) (1.3.0)\n",
            "Requirement already satisfied: sniffio>=1.1 in /usr/local/lib/python3.10/dist-packages (from anyio<5,>=3.4.0->starlette==0.20.4->fiftyone) (1.3.0)\n",
            "Requirement already satisfied: pyasn1-modules>=0.2.1 in /usr/local/lib/python3.10/dist-packages (from google-auth<3,>=1.6.3->tensorboard<2.13,>=2.12->tensorflow) (0.3.0)\n",
            "Requirement already satisfied: rsa<5,>=3.1.4 in /usr/local/lib/python3.10/dist-packages (from google-auth<3,>=1.6.3->tensorboard<2.13,>=2.12->tensorflow) (4.9)\n",
            "Requirement already satisfied: requests-oauthlib>=0.7.0 in /usr/local/lib/python3.10/dist-packages (from google-auth-oauthlib<1.1,>=0.5->tensorboard<2.13,>=2.12->tensorflow) (1.3.1)\n",
            "Collecting hyperframe<7,>=6.0 (from h2>=3.1.0->hypercorn>=0.13.2->fiftyone)\n",
            "  Downloading hyperframe-6.0.1-py3-none-any.whl (12 kB)\n",
            "Collecting hpack<5,>=4.0 (from h2>=3.1.0->hypercorn>=0.13.2->fiftyone)\n",
            "  Downloading hpack-4.0.0-py3-none-any.whl (32 kB)\n",
            "Collecting httpcore<0.18.0,>=0.15.0 (from httpx>=0.10.0->universal-analytics-python3<2,>=1.0.1->fiftyone)\n",
            "  Downloading httpcore-0.17.0-py3-none-any.whl (70 kB)\n",
            "\u001b[2K     \u001b[90m━━━━━━━━━━━━━━━━━━━━━━━━━━━━━━━━━━━━━━━━\u001b[0m \u001b[32m70.6/70.6 kB\u001b[0m \u001b[31m9.5 MB/s\u001b[0m eta \u001b[36m0:00:00\u001b[0m\n",
            "\u001b[?25hRequirement already satisfied: parso<0.9.0,>=0.8.0 in /usr/local/lib/python3.10/dist-packages (from jedi>=0.16->ipython>=4.0.0->ipywidgets<8,>=7.5) (0.8.3)\n",
            "Requirement already satisfied: pyzmq>=17 in /usr/local/lib/python3.10/dist-packages (from notebook>=4.4.1->widgetsnbextension~=3.6.0->ipywidgets<8,>=7.5) (23.2.1)\n",
            "Requirement already satisfied: argon2-cffi in /usr/local/lib/python3.10/dist-packages (from notebook>=4.4.1->widgetsnbextension~=3.6.0->ipywidgets<8,>=7.5) (21.3.0)\n",
            "Requirement already satisfied: jupyter-core>=4.6.1 in /usr/local/lib/python3.10/dist-packages (from notebook>=4.4.1->widgetsnbextension~=3.6.0->ipywidgets<8,>=7.5) (5.3.0)\n",
            "Requirement already satisfied: nbformat in /usr/local/lib/python3.10/dist-packages (from notebook>=4.4.1->widgetsnbextension~=3.6.0->ipywidgets<8,>=7.5) (5.8.0)\n",
            "Requirement already satisfied: nbconvert in /usr/local/lib/python3.10/dist-packages (from notebook>=4.4.1->widgetsnbextension~=3.6.0->ipywidgets<8,>=7.5) (6.5.4)\n",
            "Requirement already satisfied: nest-asyncio>=1.5 in /usr/local/lib/python3.10/dist-packages (from notebook>=4.4.1->widgetsnbextension~=3.6.0->ipywidgets<8,>=7.5) (1.5.6)\n",
            "Requirement already satisfied: Send2Trash>=1.8.0 in /usr/local/lib/python3.10/dist-packages (from notebook>=4.4.1->widgetsnbextension~=3.6.0->ipywidgets<8,>=7.5) (1.8.0)\n",
            "Requirement already satisfied: terminado>=0.8.3 in /usr/local/lib/python3.10/dist-packages (from notebook>=4.4.1->widgetsnbextension~=3.6.0->ipywidgets<8,>=7.5) (0.17.1)\n",
            "Requirement already satisfied: prometheus-client in /usr/local/lib/python3.10/dist-packages (from notebook>=4.4.1->widgetsnbextension~=3.6.0->ipywidgets<8,>=7.5) (0.16.0)\n",
            "Requirement already satisfied: ptyprocess>=0.5 in /usr/local/lib/python3.10/dist-packages (from pexpect>4.3->ipython>=4.0.0->ipywidgets<8,>=7.5) (0.7.0)\n",
            "Requirement already satisfied: attrs>=19.2.0 in /usr/local/lib/python3.10/dist-packages (from jsonlines->voxel51-eta<0.10,>=0.9->fiftyone) (23.1.0)\n",
            "Collecting texttable (from py7zr->voxel51-eta<0.10,>=0.9->fiftyone)\n",
            "  Downloading texttable-1.6.7-py2.py3-none-any.whl (10 kB)\n",
            "Collecting pycryptodomex>=3.6.6 (from py7zr->voxel51-eta<0.10,>=0.9->fiftyone)\n",
            "  Downloading pycryptodomex-3.17-cp35-abi3-manylinux_2_17_x86_64.manylinux2014_x86_64.whl (2.1 MB)\n",
            "\u001b[2K     \u001b[90m━━━━━━━━━━━━━━━━━━━━━━━━━━━━━━━━━━━━━━━━\u001b[0m \u001b[32m2.1/2.1 MB\u001b[0m \u001b[31m79.1 MB/s\u001b[0m eta \u001b[36m0:00:00\u001b[0m\n",
            "\u001b[?25hCollecting pyzstd>=0.14.4 (from py7zr->voxel51-eta<0.10,>=0.9->fiftyone)\n",
            "  Downloading pyzstd-0.15.7-cp310-cp310-manylinux_2_17_x86_64.manylinux2014_x86_64.whl (399 kB)\n",
            "\u001b[2K     \u001b[90m━━━━━━━━━━━━━━━━━━━━━━━━━━━━━━━━━━━━━━\u001b[0m \u001b[32m399.3/399.3 kB\u001b[0m \u001b[31m45.2 MB/s\u001b[0m eta \u001b[36m0:00:00\u001b[0m\n",
            "\u001b[?25hCollecting pyppmd<1.1.0,>=0.18.1 (from py7zr->voxel51-eta<0.10,>=0.9->fiftyone)\n",
            "  Downloading pyppmd-1.0.0-cp310-cp310-manylinux_2_17_x86_64.manylinux2014_x86_64.whl (138 kB)\n",
            "\u001b[2K     \u001b[90m━━━━━━━━━━━━━━━━━━━━━━━━━━━━━━━━━━━━━━\u001b[0m \u001b[32m138.8/138.8 kB\u001b[0m \u001b[31m19.2 MB/s\u001b[0m eta \u001b[36m0:00:00\u001b[0m\n",
            "\u001b[?25hCollecting pybcj>=0.6.0 (from py7zr->voxel51-eta<0.10,>=0.9->fiftyone)\n",
            "  Downloading pybcj-1.0.1-cp310-cp310-manylinux_2_17_x86_64.manylinux2014_x86_64.whl (49 kB)\n",
            "\u001b[2K     \u001b[90m━━━━━━━━━━━━━━━━━━━━━━━━━━━━━━━━━━━━━━━━\u001b[0m \u001b[32m49.8/49.8 kB\u001b[0m \u001b[31m6.8 MB/s\u001b[0m eta \u001b[36m0:00:00\u001b[0m\n",
            "\u001b[?25hCollecting multivolumefile>=0.2.3 (from py7zr->voxel51-eta<0.10,>=0.9->fiftyone)\n",
            "  Downloading multivolumefile-0.2.3-py3-none-any.whl (17 kB)\n",
            "Collecting brotli>=1.0.9 (from py7zr->voxel51-eta<0.10,>=0.9->fiftyone)\n",
            "  Downloading Brotli-1.0.9-cp310-cp310-manylinux_2_5_x86_64.manylinux1_x86_64.manylinux_2_12_x86_64.manylinux2010_x86_64.whl (2.7 MB)\n",
            "\u001b[2K     \u001b[90m━━━━━━━━━━━━━━━━━━━━━━━━━━━━━━━━━━━━━━━━\u001b[0m \u001b[32m2.7/2.7 MB\u001b[0m \u001b[31m102.9 MB/s\u001b[0m eta \u001b[36m0:00:00\u001b[0m\n",
            "\u001b[?25hCollecting inflate64>=0.3.1 (from py7zr->voxel51-eta<0.10,>=0.9->fiftyone)\n",
            "  Downloading inflate64-0.3.1-cp310-cp310-manylinux_2_17_x86_64.manylinux2014_x86_64.whl (93 kB)\n",
            "\u001b[2K     \u001b[90m━━━━━━━━━━━━━━━━━━━━━━━━━━━━━━━━━━━━━━━━\u001b[0m \u001b[32m93.1/93.1 kB\u001b[0m \u001b[31m13.6 MB/s\u001b[0m eta \u001b[36m0:00:00\u001b[0m\n",
            "\u001b[?25hRequirement already satisfied: pytz-deprecation-shim in /usr/local/lib/python3.10/dist-packages (from tzlocal->voxel51-eta<0.10,>=0.9->fiftyone) (0.1.0.post0)\n",
            "Requirement already satisfied: platformdirs>=2.5 in /usr/local/lib/python3.10/dist-packages (from jupyter-core>=4.6.1->notebook>=4.4.1->widgetsnbextension~=3.6.0->ipywidgets<8,>=7.5) (3.3.0)\n",
            "Requirement already satisfied: pyasn1<0.6.0,>=0.4.6 in /usr/local/lib/python3.10/dist-packages (from pyasn1-modules>=0.2.1->google-auth<3,>=1.6.3->tensorboard<2.13,>=2.12->tensorflow) (0.5.0)\n",
            "Requirement already satisfied: oauthlib>=3.0.0 in /usr/local/lib/python3.10/dist-packages (from requests-oauthlib>=0.7.0->google-auth-oauthlib<1.1,>=0.5->tensorboard<2.13,>=2.12->tensorflow) (3.2.2)\n",
            "Requirement already satisfied: argon2-cffi-bindings in /usr/local/lib/python3.10/dist-packages (from argon2-cffi->notebook>=4.4.1->widgetsnbextension~=3.6.0->ipywidgets<8,>=7.5) (21.2.0)\n",
            "Requirement already satisfied: lxml in /usr/local/lib/python3.10/dist-packages (from nbconvert->notebook>=4.4.1->widgetsnbextension~=3.6.0->ipywidgets<8,>=7.5) (4.9.2)\n",
            "Requirement already satisfied: beautifulsoup4 in /usr/local/lib/python3.10/dist-packages (from nbconvert->notebook>=4.4.1->widgetsnbextension~=3.6.0->ipywidgets<8,>=7.5) (4.11.2)\n",
            "Requirement already satisfied: bleach in /usr/local/lib/python3.10/dist-packages (from nbconvert->notebook>=4.4.1->widgetsnbextension~=3.6.0->ipywidgets<8,>=7.5) (6.0.0)\n",
            "Requirement already satisfied: defusedxml in /usr/local/lib/python3.10/dist-packages (from nbconvert->notebook>=4.4.1->widgetsnbextension~=3.6.0->ipywidgets<8,>=7.5) (0.7.1)\n",
            "Requirement already satisfied: entrypoints>=0.2.2 in /usr/local/lib/python3.10/dist-packages (from nbconvert->notebook>=4.4.1->widgetsnbextension~=3.6.0->ipywidgets<8,>=7.5) (0.4)\n",
            "Requirement already satisfied: jupyterlab-pygments in /usr/local/lib/python3.10/dist-packages (from nbconvert->notebook>=4.4.1->widgetsnbextension~=3.6.0->ipywidgets<8,>=7.5) (0.2.2)\n",
            "Requirement already satisfied: mistune<2,>=0.8.1 in /usr/local/lib/python3.10/dist-packages (from nbconvert->notebook>=4.4.1->widgetsnbextension~=3.6.0->ipywidgets<8,>=7.5) (0.8.4)\n",
            "Requirement already satisfied: nbclient>=0.5.0 in /usr/local/lib/python3.10/dist-packages (from nbconvert->notebook>=4.4.1->widgetsnbextension~=3.6.0->ipywidgets<8,>=7.5) (0.7.4)\n",
            "Requirement already satisfied: pandocfilters>=1.4.1 in /usr/local/lib/python3.10/dist-packages (from nbconvert->notebook>=4.4.1->widgetsnbextension~=3.6.0->ipywidgets<8,>=7.5) (1.5.0)\n",
            "Requirement already satisfied: tinycss2 in /usr/local/lib/python3.10/dist-packages (from nbconvert->notebook>=4.4.1->widgetsnbextension~=3.6.0->ipywidgets<8,>=7.5) (1.2.1)\n",
            "Requirement already satisfied: fastjsonschema in /usr/local/lib/python3.10/dist-packages (from nbformat->notebook>=4.4.1->widgetsnbextension~=3.6.0->ipywidgets<8,>=7.5) (2.16.3)\n",
            "Requirement already satisfied: jsonschema>=2.6 in /usr/local/lib/python3.10/dist-packages (from nbformat->notebook>=4.4.1->widgetsnbextension~=3.6.0->ipywidgets<8,>=7.5) (4.3.3)\n",
            "Requirement already satisfied: tzdata in /usr/local/lib/python3.10/dist-packages (from pytz-deprecation-shim->tzlocal->voxel51-eta<0.10,>=0.9->fiftyone) (2023.3)\n",
            "Requirement already satisfied: pyrsistent!=0.17.0,!=0.17.1,!=0.17.2,>=0.14.0 in /usr/local/lib/python3.10/dist-packages (from jsonschema>=2.6->nbformat->notebook>=4.4.1->widgetsnbextension~=3.6.0->ipywidgets<8,>=7.5) (0.19.3)\n",
            "Requirement already satisfied: cffi>=1.0.1 in /usr/local/lib/python3.10/dist-packages (from argon2-cffi-bindings->argon2-cffi->notebook>=4.4.1->widgetsnbextension~=3.6.0->ipywidgets<8,>=7.5) (1.15.1)\n",
            "Requirement already satisfied: soupsieve>1.2 in /usr/local/lib/python3.10/dist-packages (from beautifulsoup4->nbconvert->notebook>=4.4.1->widgetsnbextension~=3.6.0->ipywidgets<8,>=7.5) (2.4.1)\n",
            "Requirement already satisfied: webencodings in /usr/local/lib/python3.10/dist-packages (from bleach->nbconvert->notebook>=4.4.1->widgetsnbextension~=3.6.0->ipywidgets<8,>=7.5) (0.5.1)\n",
            "Requirement already satisfied: pycparser in /usr/local/lib/python3.10/dist-packages (from cffi>=1.0.1->argon2-cffi-bindings->argon2-cffi->notebook>=4.4.1->widgetsnbextension~=3.6.0->ipywidgets<8,>=7.5) (2.21)\n",
            "Building wheels for collected packages: umap-learn, pynndescent\n",
            "  Building wheel for umap-learn (setup.py) ... \u001b[?25l\u001b[?25hdone\n",
            "  Created wheel for umap-learn: filename=umap_learn-0.5.3-py3-none-any.whl size=82816 sha256=8ef5573d6011a58bde08f5e058e56bd7f585e404b897c0f6ea27ec23d70650a7\n",
            "  Stored in directory: /root/.cache/pip/wheels/a0/e8/c6/a37ea663620bd5200ea1ba0907ab3c217042c1d035ef606acc\n",
            "  Building wheel for pynndescent (setup.py) ... \u001b[?25l\u001b[?25hdone\n",
            "  Created wheel for pynndescent: filename=pynndescent-0.5.10-py3-none-any.whl size=55622 sha256=9163eb05d81e653650b0dc46c9e3668316dd41d97f6ecd6aba6b325091474655\n",
            "  Stored in directory: /root/.cache/pip/wheels/4a/38/5d/f60a40a66a9512b7e5e83517ebc2d1b42d857be97d135f1096\n",
            "Successfully built umap-learn pynndescent\n",
            "Installing collected packages: texttable, sseclient-py, rarfile, pprintpp, kaleido, brotli, xmltodict, retrying, pyzstd, pyppmd, pycryptodomex, pybcj, priority, multivolumefile, jsonlines, jmespath, jedi, inflate64, hyperframe, hpack, h11, graphql-core, ftfy, fiftyone-db, dnspython, dill, Deprecated, dacite, argcomplete, aiofiles, wsproto, strawberry-graphql, starlette, pymongo, py7zr, httpcore, h2, eventlet, botocore, voxel51-eta, sse-starlette, s3transfer, pynndescent, motor, mongoengine, hypercorn, httpx, fiftyone-brain, universal-analytics-python3, umap-learn, boto3, fiftyone\n",
            "Successfully installed Deprecated-1.2.13 aiofiles-23.1.0 argcomplete-3.0.8 boto3-1.26.133 botocore-1.29.133 brotli-1.0.9 dacite-1.7.0 dill-0.3.6 dnspython-2.3.0 eventlet-0.33.3 fiftyone-0.20.1 fiftyone-brain-0.11.0 fiftyone-db-0.4.0 ftfy-6.1.1 graphql-core-3.2.3 h11-0.14.0 h2-4.1.0 hpack-4.0.0 httpcore-0.17.0 httpx-0.24.0 hypercorn-0.14.3 hyperframe-6.0.1 inflate64-0.3.1 jedi-0.18.2 jmespath-1.0.1 jsonlines-3.1.0 kaleido-0.2.1 mongoengine-0.24.2 motor-3.1.2 multivolumefile-0.2.3 pprintpp-0.4.0 priority-2.0.0 py7zr-0.20.5 pybcj-1.0.1 pycryptodomex-3.17 pymongo-4.3.3 pynndescent-0.5.10 pyppmd-1.0.0 pyzstd-0.15.7 rarfile-4.0 retrying-1.3.4 s3transfer-0.6.1 sse-starlette-0.10.3 sseclient-py-1.7.2 starlette-0.20.4 strawberry-graphql-0.138.1 texttable-1.6.7 umap-learn-0.5.3 universal-analytics-python3-1.1.1 voxel51-eta-0.9.0 wsproto-1.2.0 xmltodict-0.13.0\n",
            "Migrating database to v0.20.1\n"
          ]
        },
        {
          "name": "stderr",
          "output_type": "stream",
          "text": [
            "INFO:fiftyone.migrations.runner:Migrating database to v0.20.1\n"
          ]
        }
      ],
      "source": [
        "!pip install fiftyone tensorflow torch torchvision umap-learn 'ipywidgets>=7.5,<8'\n",
        "\n",
        "from datetime import datetime\n",
        "from google.colab import drive\n",
        "import math\n",
        "import os\n",
        "import shutil\n",
        "from PIL import Image\n",
        "import torch\n",
        "import torchvision.transforms as transforms\n",
        "import fiftyone as fo\n",
        "import fiftyone.zoo as foz\n",
        "import matplotlib.pyplot as plt\n",
        "import numpy as np\n",
        "import re\n",
        "\n",
        "data_device = torch.device('cuda:0' if torch.cuda.is_available() else 'cpu')\n",
        "\n",
        "\n"
      ]
    },
    {
      "attachments": {},
      "cell_type": "markdown",
      "id": "gAQfREsj8pNA",
      "metadata": {
        "id": "gAQfREsj8pNA"
      },
      "source": [
        "Datasets from fiftyone"
      ]
    },
    {
      "cell_type": "code",
      "execution_count": 3,
      "id": "Z-7hE1w-tNUS",
      "metadata": {
        "colab": {
          "base_uri": "https://localhost:8080/"
        },
        "id": "Z-7hE1w-tNUS",
        "outputId": "d94e13ff-a7ed-475a-b774-f8ce0d3f2951"
      },
      "outputs": [
        {
          "name": "stdout",
          "output_type": "stream",
          "text": [
            "Downloading split 'train' to '/root/fiftyone/open-images-v6/train' if necessary\n"
          ]
        },
        {
          "name": "stderr",
          "output_type": "stream",
          "text": [
            "INFO:fiftyone.zoo.datasets:Downloading split 'train' to '/root/fiftyone/open-images-v6/train' if necessary\n"
          ]
        },
        {
          "name": "stdout",
          "output_type": "stream",
          "text": [
            "Necessary images already downloaded\n"
          ]
        },
        {
          "name": "stderr",
          "output_type": "stream",
          "text": [
            "INFO:fiftyone.utils.openimages:Necessary images already downloaded\n"
          ]
        },
        {
          "name": "stdout",
          "output_type": "stream",
          "text": [
            "Existing download of split 'train' is sufficient\n"
          ]
        },
        {
          "name": "stderr",
          "output_type": "stream",
          "text": [
            "INFO:fiftyone.zoo.datasets:Existing download of split 'train' is sufficient\n"
          ]
        },
        {
          "name": "stdout",
          "output_type": "stream",
          "text": [
            "Loading existing dataset 'open-images-v6-train-70'. To reload from disk, either delete the existing dataset or provide a custom `dataset_name` to use\n"
          ]
        },
        {
          "name": "stderr",
          "output_type": "stream",
          "text": [
            "INFO:fiftyone.zoo.datasets:Loading existing dataset 'open-images-v6-train-70'. To reload from disk, either delete the existing dataset or provide a custom `dataset_name` to use\n"
          ]
        },
        {
          "name": "stdout",
          "output_type": "stream",
          "text": [
            "Downloading split 'validation' to '/root/fiftyone/open-images-v6/validation' if necessary\n"
          ]
        },
        {
          "name": "stderr",
          "output_type": "stream",
          "text": [
            "INFO:fiftyone.zoo.datasets:Downloading split 'validation' to '/root/fiftyone/open-images-v6/validation' if necessary\n"
          ]
        },
        {
          "name": "stdout",
          "output_type": "stream",
          "text": [
            "Necessary images already downloaded\n"
          ]
        },
        {
          "name": "stderr",
          "output_type": "stream",
          "text": [
            "INFO:fiftyone.utils.openimages:Necessary images already downloaded\n"
          ]
        },
        {
          "name": "stdout",
          "output_type": "stream",
          "text": [
            "Existing download of split 'validation' is sufficient\n"
          ]
        },
        {
          "name": "stderr",
          "output_type": "stream",
          "text": [
            "INFO:fiftyone.zoo.datasets:Existing download of split 'validation' is sufficient\n"
          ]
        },
        {
          "name": "stdout",
          "output_type": "stream",
          "text": [
            "Loading existing dataset 'open-images-v6-validation-70'. To reload from disk, either delete the existing dataset or provide a custom `dataset_name` to use\n"
          ]
        },
        {
          "name": "stderr",
          "output_type": "stream",
          "text": [
            "INFO:fiftyone.zoo.datasets:Loading existing dataset 'open-images-v6-validation-70'. To reload from disk, either delete the existing dataset or provide a custom `dataset_name` to use\n"
          ]
        },
        {
          "name": "stdout",
          "output_type": "stream",
          "text": [
            "Mounted at /content/drive\n"
          ]
        }
      ],
      "source": [
        "t_dir = \"/content/drive/MyDrive/deep_learning/deep_learning/train\"\n",
        "v_dir = \"/content/drive/MyDrive/deep_learning/deep_learning/valid\"\n",
        "\n",
        "t_data = foz.load_zoo_dataset(\"open-images-v6\", split=\"train\", label_types=[\"segmentations\", \"classifications\"], classes = [\"Cat\", \"Dog\", \"Car\"], max_samples=70, shuffle = True)\n",
        "v_data = foz.load_zoo_dataset(\"open-images-v6\", split=\"validation\", label_types=[\"segmentations\", \"classifications\"], classes = [\"Cat\", \"Dog\", \"Car\"], max_samples=70, shuffle = True)\n",
        "\n",
        "drive.mount('/content/drive')\n",
        "\n",
        "os.makedirs(os.path.join(t_dir, \"images\"), exist_ok=True)\n",
        "os.makedirs(os.path.join(t_dir, \"masks\"), exist_ok=True)\n",
        "os.makedirs(os.path.join(v_dir, \"images\"), exist_ok=True)\n",
        "os.makedirs(os.path.join(v_dir, \"masks\"), exist_ok=True)\n"
      ]
    },
    {
      "attachments": {},
      "cell_type": "markdown",
      "id": "nLnV0_2x8XYP",
      "metadata": {
        "id": "nLnV0_2x8XYP"
      },
      "source": [
        "Save images and masks to google drive"
      ]
    },
    {
      "cell_type": "code",
      "execution_count": 4,
      "id": "_F9eal3hSzhi",
      "metadata": {
        "id": "_F9eal3hSzhi"
      },
      "outputs": [],
      "source": [
        "import os\n",
        "import shutil\n",
        "\n",
        "def prep_dataset(ds, split, root):\n",
        "    mask_files = []\n",
        "    for d, _, f in os.walk(f\"/root/fiftyone/open-images-v6/{split}/labels/masks\"):\n",
        "        for file in f:\n",
        "            if file.endswith(\".png\"):\n",
        "                mask_files.append(os.path.join(d, file))\n",
        "    for sample in ds:\n",
        "        fname = os.path.basename(sample.filepath)\n",
        "        shutil.move(sample.filepath, os.path.join(os.path.join(root, \"images\"), fname))\n",
        "        mask_file = next((f for f in mask_files if os.path.splitext(fname)[0] in f), None)\n",
        "        if mask_file:\n",
        "            shutil.move(mask_file, os.path.join(os.path.join(root, \"masks\"), os.path.splitext(fname)[0] + \".png\"))\n",
        "\n",
        "prep_dataset(t_data, 'train', t_dir)\n",
        "prep_dataset(v_data, 'validation', v_dir)\n",
        "\n",
        "\n"
      ]
    },
    {
      "attachments": {},
      "cell_type": "markdown",
      "id": "6f61d03f-3522-47b2-86aa-4933c3a7ab01",
      "metadata": {
        "id": "6f61d03f-3522-47b2-86aa-4933c3a7ab01"
      },
      "source": [
        "Dataset"
      ]
    },
    {
      "cell_type": "code",
      "execution_count": 5,
      "id": "5298be9c-c5e1-4e2d-9212-8a4ed83796fd",
      "metadata": {
        "id": "5298be9c-c5e1-4e2d-9212-8a4ed83796fd",
        "tags": []
      },
      "outputs": [],
      "source": [
        "class BackgroundDataset(torch.utils.data.Dataset):\n",
        "    def __init__(self, main_dir, train = False):\n",
        "        self.train = train\n",
        "        self.pic_dir = os.path.join(main_dir, 'images')\n",
        "        self.mask_dir = os.path.join(main_dir, 'masks')\n",
        " \n",
        "        self.pic_list = [fn for fn in os.listdir(self.pic_dir) if fn.endswith('.jpg')]\n",
        "        self.mask_list = [fn for fn in os.listdir(self.mask_dir) if fn.endswith('.png')]\n",
        "        \n",
        "        self.pic_list.sort()\n",
        "        self.mask_list.sort()\n",
        " \n",
        "    def __len__(self):\n",
        "        return len(self.pic_list)\n",
        " \n",
        "    def modify(self, img, mask):\n",
        "        mask_name = mask.filename\n",
        "        img = img.resize((256, 256)) \n",
        "        mask = mask.resize((256, 256))  \n",
        "        if self.train:\n",
        "            pad = lambda x : math.ceil(max(0, 256 - x) / 2)\n",
        "            img, mask = [transforms.functional.pad(i, [pad(i.width), pad(i.height)]) for i in [img, mask]]\n",
        "            params = transforms.RandomCrop.get_params(img, output_size = (256, 256))\n",
        "            img, mask = [transforms.functional.crop(i, *params) for i in [img, mask]]\n",
        "        else:\n",
        "            pad = lambda x : math.ceil(x / 8) * 8 - x\n",
        "            img, mask = [transforms.functional.pad(i, [0, 0, pad(i.width), pad(i.height)]) for i in [img, mask]]\n",
        "\n",
        "        img = transforms.functional.normalize(transforms.functional.to_tensor(img), (0.5, 0.5, 0.5), (0.5, 0.5, 0.5))\n",
        "        mask = transforms.functional.to_tensor(mask)\n",
        "\n",
        "        for label, v in [('m096mb', 3.0), ('m0bt9lr', 2.0), ('m01yrx', 1.0)]:\n",
        "          if label in mask_name:\n",
        "            mask[mask > 0] = v\n",
        "          \n",
        "        mask[mask > 0] = 0.0\n",
        "        return img, mask\n",
        " \n",
        "    def __getitem__(self, idx):\n",
        "        pic_name = os.path.join(self.pic_dir, self.pic_list[idx])\n",
        "        mask_name = os.path.join(self.mask_dir, self.mask_list[idx])\n",
        " \n",
        "        img = Image.open(pic_name)\n",
        "        mask = Image.open(mask_name)\n",
        " \n",
        "        return self.modify(img.convert('RGB'), mask)\n"
      ]
    },
    {
      "cell_type": "code",
      "execution_count": 6,
      "id": "a5ac1d6c-b2f3-4a45-9370-b6bea6deed64",
      "metadata": {
        "id": "a5ac1d6c-b2f3-4a45-9370-b6bea6deed64",
        "tags": []
      },
      "outputs": [],
      "source": [
        "def seconds_to_time(seconds):\n",
        "    s = int(seconds) % 60\n",
        "    m = int(seconds) // 60\n",
        "    if m < 1:\n",
        "        return f'{s}s'\n",
        "    h = m // 60\n",
        "    m = m % 60\n",
        "    if h < 1:\n",
        "        return f'{m}m{s}s'\n",
        "    return f'{h}h{m}m{s}s'"
      ]
    },
    {
      "cell_type": "code",
      "execution_count": 7,
      "id": "678c2bdf-e53c-4c51-941b-93e7662278d6",
      "metadata": {
        "id": "678c2bdf-e53c-4c51-941b-93e7662278d6",
        "tags": []
      },
      "outputs": [],
      "source": [
        "def train_epoch(optim, loss_func, mdl, ldr):\n",
        "  mdl.train()\n",
        "  loss_accum = np.array([], dtype = np.float32)\n",
        "\n",
        "  for d in ldr:\n",
        "    img = d[0].to(data_device)\n",
        "    msk = d[1].to(data_device)\n",
        "    msk = msk.squeeze(1)\n",
        "    msk = msk.long().to(data_device)\n",
        "\n",
        "    predictions = mdl(img)\n",
        "\n",
        "    num_cls = 4\n",
        "\n",
        "    one_hot_msk = torch.nn.functional.one_hot(msk, num_classes=num_cls).permute(0, 3, 1, 2).float()\n",
        "    \n",
        "    lss = loss_func(predictions, one_hot_msk)\n",
        "    loss_accum = np.append(loss_accum, lss.cpu().detach().numpy())\n",
        "\n",
        "    lss.backward()\n",
        "    optim.step()\n",
        "    optim.zero_grad()\n",
        "\n",
        "  return np.mean(loss_accum)\n"
      ]
    },
    {
      "cell_type": "code",
      "execution_count": 8,
      "id": "6621061f-b7d6-47bc-84ea-72e557eefe42",
      "metadata": {
        "id": "6621061f-b7d6-47bc-84ea-72e557eefe42",
        "tags": []
      },
      "outputs": [],
      "source": [
        "def evaluate(mdl, ldr):\n",
        "  mdl.eval()\n",
        "\n",
        "  tot_iou = 0.0\n",
        "  tot_pred = 0\n",
        "  tot_dice = 0.0\n",
        "  tot_f1 = 0.0\n",
        "  tot_int = 0.0\n",
        "  tot_uni = 0.0\n",
        "  \n",
        "  for d in ldr:\n",
        "    img = d[0].to(data_device)\n",
        "    msk = d[1]\n",
        "    msk = msk.squeeze(1)\n",
        "    msk = msk.numpy()\n",
        "\n",
        "    with torch.no_grad():\n",
        "      pred = mdl(img)\n",
        "\n",
        "    pred = torch.argmax(pred, dim=1)\n",
        "    pred = pred.cpu().detach().numpy()\n",
        "    \n",
        "    int = 0.0\n",
        "    uni = 0.0\n",
        "    for i in range(len(msk)):\n",
        "      msk_nz = msk[i].max()\n",
        "      int += ((pred[i] == msk[i]) & (msk_nz == pred[i])).sum()\n",
        "      uni += ((msk_nz == msk[i]) | (msk_nz == pred[i])).sum()\n",
        "        \n",
        "    if uni != 0:\n",
        "      iou = int / uni\n",
        "      dice = 2 * int / (pred[0].size + msk[0].size)\n",
        "      f1 = int / (int + 0.5 * uni)\n",
        "    elif uni == 0.0 and int == 0.0:\n",
        "      iou = 0.0\n",
        "      dice = 0.0\n",
        "      f1 = 0.0\n",
        "    \n",
        "    tot_iou += iou\n",
        "    tot_dice += dice\n",
        "    tot_f1 += f1\n",
        "    tot_pred += 1\n",
        "    tot_int += int\n",
        "    tot_uni += uni\n",
        "\n",
        "  if tot_pred != 0:\n",
        "    mean_iou = tot_iou / tot_pred\n",
        "    mean_dice = tot_dice / tot_pred\n",
        "    micro_f1 = tot_f1 / 3\n",
        "    macro_f1 = tot_int / (tot_int + 0.5 * tot_uni)\n",
        "  else:\n",
        "    mean_iou = 0.0\n",
        "    mean_dice = 0.0\n",
        "    micro_f1 = 0.0\n",
        "    macro_f1 = 0.0\n",
        "\n",
        "  return mean_iou, mean_dice, micro_f1, macro_f1\n"
      ]
    },
    {
      "cell_type": "code",
      "execution_count": 9,
      "id": "3045489e-c758-45df-9331-111fabadb9a2",
      "metadata": {
        "id": "3045489e-c758-45df-9331-111fabadb9a2",
        "tags": []
      },
      "outputs": [],
      "source": [
        "def train_and_eval(mdl, ldr_train, ldr_valid, e_count = 10, lr = 1e-3):\n",
        "  l_func = torch.nn.BCEWithLogitsLoss()\n",
        "  optim = torch.optim.Adam(mdl.parameters(), lr = lr)\n",
        "\n",
        "  s_time = datetime.now()\n",
        "\n",
        "  t_iou_acum = []\n",
        "  v_iou_acum = []\n",
        "  dice_acum = []\n",
        "  m_f1_acum = []\n",
        "  ma_f1_acum = []\n",
        "  for e in range(e_count):\n",
        "    lss = train_epoch(optim, l_func, mdl, ldr_train)\n",
        "    t_iou, _, _, _ = evaluate(mdl, ldr_train)\n",
        "    t_iou_acum.append(t_iou)\n",
        "    v_iou, dice, m_f1, ma_f1 = evaluate(mdl, ldr_valid)\n",
        "\n",
        "    v_iou_acum.append(v_iou)\n",
        "    dice_acum.append(dice)\n",
        "    m_f1_acum.append(m_f1)\n",
        "    ma_f1_acum.append(ma_f1)\n",
        "\n",
        "    c_time = datetime.now()\n",
        "    elpsd = seconds_to_time((c_time - s_time).total_seconds())\n",
        "    print(f'Epoch: {e}, Time: {elpsd}, Training loss: {lss}')\n",
        "    print(f'  Training IoU: {np.round(t_iou * 100)}, Validation IoU: {np.round(v_iou * 100)}')\n",
        "\n",
        "  return t_iou_acum, v_iou_acum, dice_acum, m_f1_acum, ma_f1_acum"
      ]
    },
    {
      "cell_type": "code",
      "execution_count": 10,
      "id": "016acc27-3c42-49aa-b8b2-9ec81c16c075",
      "metadata": {
        "id": "016acc27-3c42-49aa-b8b2-9ec81c16c075",
        "tags": []
      },
      "outputs": [],
      "source": [
        "def plot_iou(train_iou, valid_iou):\n",
        "  plt.clf()\n",
        "  plt.plot(train_iou, 'b', label = 'Training IoU')\n",
        "  plt.plot(valid_iou, 'r', label = 'Validation IoU')\n",
        "  plt.ylim(0.0, 1.0)\n",
        "  plt.legend()\n",
        "  plt.show()"
      ]
    },
    {
      "attachments": {},
      "cell_type": "markdown",
      "id": "53accc14-f4af-4c39-8566-5898499d64e7",
      "metadata": {
        "id": "53accc14-f4af-4c39-8566-5898499d64e7"
      },
      "source": [
        "Network"
      ]
    },
    {
      "cell_type": "code",
      "execution_count": 12,
      "id": "0050a77f-7e62-486d-964a-35d6a1fc3ec4",
      "metadata": {
        "id": "0050a77f-7e62-486d-964a-35d6a1fc3ec4",
        "tags": []
      },
      "outputs": [],
      "source": [
        "class FCNNet(torch.nn.Module):\n",
        "  def __init__(self, in_channels):\n",
        "    super().__init__()\n",
        "    \n",
        "    self.conv1_1 = torch.nn.Conv2d(in_channels, 16, (3, 3), padding = 'same')\n",
        "    self.relu1_1 = torch.nn.ReLU()\n",
        "    self.conv1_2 = torch.nn.Conv2d(16, 16, (3, 3), padding = 'same')\n",
        "    self.relu1_2 = torch.nn.ReLU()\n",
        "    \n",
        "    self.pool2 = torch.nn.MaxPool2d((2, 2), (2, 2))\n",
        "    self.conv2_1 = torch.nn.Conv2d(16, 32, (3, 3), padding = 'same')\n",
        "    self.relu2_1 = torch.nn.ReLU()\n",
        "    self.conv2_2 = torch.nn.Conv2d(32, 32, (3, 3), padding = 'same')\n",
        "    self.relu2_2 = torch.nn.ReLU()\n",
        "    \n",
        "    self.pool3 = torch.nn.MaxPool2d((2, 2), (2, 2))\n",
        "    self.conv3_1 = torch.nn.Conv2d(32, 64, (3, 3), padding = 'same')\n",
        "    self.relu3_1 = torch.nn.ReLU()\n",
        "    self.conv3_2 = torch.nn.Conv2d(64, 64, (3, 3), padding = 'same')\n",
        "    self.relu3_2 = torch.nn.ReLU()\n",
        "    \n",
        "    self.pool4 = torch.nn.MaxPool2d((2, 2), (2, 2))\n",
        "    self.conv4_1 = torch.nn.Conv2d(64, 128, (3, 3), padding = 'same')\n",
        "    self.relu4_1 = torch.nn.ReLU()\n",
        "    self.conv4_2 = torch.nn.Conv2d(128, 128, (3, 3), padding = 'same')\n",
        "    self.relu4_2 = torch.nn.ReLU()\n",
        "    self.conv4_3 = torch.nn.Conv2d(128, 64, (3, 3), padding = 'same')\n",
        "    self.relu4_3 = torch.nn.ReLU()\n",
        "    self.upscale4 = torch.nn.Upsample(scale_factor = 2)\n",
        "    \n",
        "    self.conv5_1 = torch.nn.Conv2d(64, 64, (3, 3), padding = 'same')\n",
        "    self.relu5_1 = torch.nn.ReLU()\n",
        "    self.conv5_2 = torch.nn.Conv2d(64, 32, (3, 3), padding = 'same')\n",
        "    self.relu5_2 = torch.nn.ReLU()\n",
        "    self.upscale5 = torch.nn.Upsample(scale_factor = 2)\n",
        "    \n",
        "    self.conv6_1 = torch.nn.Conv2d(32, 32, (3, 3), padding = 'same')\n",
        "    self.relu6_1 = torch.nn.ReLU()\n",
        "    self.conv6_2 = torch.nn.Conv2d(32, 16, (3, 3), padding = 'same')\n",
        "    self.relu6_2 = torch.nn.ReLU()\n",
        "    self.upscale6 = torch.nn.Upsample(scale_factor = 2)\n",
        "    \n",
        "    self.conv7_1 = torch.nn.Conv2d(16, 16, (3, 3), padding = 'same')\n",
        "    self.relu7_1 = torch.nn.ReLU()\n",
        "    self.conv7_2 = torch.nn.Conv2d(16, 16, (3, 3), padding = 'same')\n",
        "    self.relu7_2 = torch.nn.ReLU()\n",
        "    \n",
        "    self.conv8 = torch.nn.Conv2d(16, 4, (1, 1))\n",
        "    self.softmax8 = torch.nn.Softmax(dim=1)\n",
        "\n",
        "  def forward(self, x):\n",
        "    block1 = torch.nn.Sequential(\n",
        "        self.conv1_1,\n",
        "        self.relu1_1,\n",
        "        self.conv1_2,\n",
        "        self.relu1_2\n",
        "    )(x)\n",
        "    block2 = torch.nn.Sequential(\n",
        "        self.pool2,\n",
        "        self.conv2_1,\n",
        "        self.relu2_1,\n",
        "        self.conv2_2,\n",
        "        self.relu2_2,\n",
        "    )(block1)\n",
        "    block3 = torch.nn.Sequential(\n",
        "        self.pool3,\n",
        "        self.conv3_1,\n",
        "        self.relu3_1,\n",
        "        self.conv3_2,\n",
        "        self.relu3_2,\n",
        "    )(block2)\n",
        "    block4 = torch.nn.Sequential(\n",
        "        self.pool4,\n",
        "        self.conv4_1,\n",
        "        self.relu4_1,\n",
        "        self.conv4_2,\n",
        "        self.relu4_2,\n",
        "        self.conv4_3,\n",
        "        self.relu4_3,\n",
        "        self.upscale4,\n",
        "    )(block3) + block3\n",
        "    block5 = torch.nn.Sequential(\n",
        "        self.conv5_1,\n",
        "        self.relu5_1,\n",
        "        self.conv5_2,\n",
        "        self.relu5_2,\n",
        "        self.upscale5,\n",
        "    )(block4) + block2\n",
        "    block6 = torch.nn.Sequential(\n",
        "        self.conv6_1,\n",
        "        self.relu6_1,\n",
        "        self.conv6_2,\n",
        "        self.relu6_2,\n",
        "        self.upscale6,\n",
        "    )(block5) + block1\n",
        "    block7 = torch.nn.Sequential(\n",
        "        self.conv7_1,\n",
        "        self.relu7_1,\n",
        "        self.conv7_2,\n",
        "        self.relu7_2,\n",
        "    )(block6)\n",
        "    block8 = torch.nn.Sequential(\n",
        "        self.conv8,\n",
        "        self.softmax8\n",
        "    )(block7)\n",
        "    return block8"
      ]
    },
    {
      "attachments": {},
      "cell_type": "markdown",
      "id": "r700ZEtggMGD",
      "metadata": {
        "id": "r700ZEtggMGD"
      },
      "source": [
        "Data"
      ]
    },
    {
      "cell_type": "code",
      "execution_count": 13,
      "id": "8182d427-6021-4d25-9a6f-2ae28ac9bf9e",
      "metadata": {
        "colab": {
          "base_uri": "https://localhost:8080/"
        },
        "id": "8182d427-6021-4d25-9a6f-2ae28ac9bf9e",
        "outputId": "0569a615-6650-425f-f877-e3df7343d110",
        "tags": []
      },
      "outputs": [
        {
          "name": "stdout",
          "output_type": "stream",
          "text": [
            "Train: 350, Test: 369\n"
          ]
        }
      ],
      "source": [
        "train_dataset = BackgroundDataset('/content/drive/MyDrive/deep_learning/deep_learning/train', train = True)\n",
        "valid_dataset = BackgroundDataset('/content/drive/MyDrive/deep_learning/deep_learning/valid', train = False)\n",
        "\n",
        "num_workers = 2\n",
        "batch_size = 32\n",
        "\n",
        "train_loader = torch.utils.data.DataLoader(train_dataset, batch_size = batch_size, num_workers = num_workers, shuffle = True)\n",
        "valid_loader = torch.utils.data.DataLoader(valid_dataset, batch_size = 1, num_workers = num_workers, shuffle = False)\n",
        "\n",
        "print(f'Train: {len(train_dataset)}, Test: {len(valid_dataset)}')"
      ]
    },
    {
      "attachments": {},
      "cell_type": "markdown",
      "id": "1f58387b-697a-410c-adc3-5bec61a87760",
      "metadata": {
        "id": "1f58387b-697a-410c-adc3-5bec61a87760"
      },
      "source": [
        "Training and testing"
      ]
    },
    {
      "cell_type": "code",
      "execution_count": 14,
      "id": "e962e11e-e440-4079-be89-5a6c34746290",
      "metadata": {
        "colab": {
          "base_uri": "https://localhost:8080/",
          "height": 678
        },
        "id": "e962e11e-e440-4079-be89-5a6c34746290",
        "outputId": "35b54d2a-efd5-4611-e46e-9e29bf5b2146",
        "tags": []
      },
      "outputs": [
        {
          "name": "stdout",
          "output_type": "stream",
          "text": [
            "Parameter count: 441,284\n",
            "Epoch: 0, Time: 2m1s, Training loss: 0.6946395039558411\n",
            "  Training IoU: 100.0, Validation IoU: 100.0\n",
            "Epoch: 1, Time: 2m38s, Training loss: 0.5981760025024414\n",
            "  Training IoU: 100.0, Validation IoU: 100.0\n",
            "Epoch: 2, Time: 3m17s, Training loss: 0.5981760025024414\n",
            "  Training IoU: 100.0, Validation IoU: 100.0\n",
            "Epoch: 3, Time: 3m58s, Training loss: 0.5981760025024414\n",
            "  Training IoU: 100.0, Validation IoU: 100.0\n",
            "Epoch: 4, Time: 4m35s, Training loss: 0.5981760025024414\n",
            "  Training IoU: 100.0, Validation IoU: 100.0\n"
          ]
        },
        {
          "data": {
            "image/png": "[encoded data removed]",
            "text/plain": [
              "<Figure size 640x480 with 1 Axes>"
            ]
          },
          "metadata": {},
          "output_type": "display_data"
        },
        {
          "name": "stdout",
          "output_type": "stream",
          "text": [
            "Dice score: 1.0\n",
            "Micro_F1 score: 81.99999999999956\n",
            "Macro_f1 score: 0.6666666666666666\n"
          ]
        }
      ],
      "source": [
        "model = FCNNet(train_dataset[0][0].shape[0]).to(data_device)\n",
        "print(f'Parameter count: {sum(p.numel() for p in model.parameters() if p.requires_grad):,}')\n",
        "\n",
        "train_iou, valid_iou, dice, micro_f1, macro_f1 = train_and_eval(model, train_loader, valid_loader, e_count = 5, lr = 1e-3)\n",
        "plot_iou(train_iou, valid_iou)\n",
        "\n",
        "print(f\"Dice score: {sum(dice)/len(dice)}\")\n",
        "print(f\"Micro_F1 score: {sum(micro_f1)/len(micro_f1)}\")\n",
        "print(f\"Macro_f1 score: {sum(macro_f1)/len(macro_f1)}\")\n"
      ]
    }
  ],
  "metadata": {
    "accelerator": "GPU",
    "colab": {
      "gpuType": "T4",
      "provenance": []
    },
    "gpuClass": "standard",
    "kernelspec": {
      "display_name": "Python 3 (ipykernel)",
      "language": "python",
      "name": "python3"
    },
    "language_info": {
      "codemirror_mode": {
        "name": "ipython",
        "version": 3
      },
      "file_extension": ".py",
      "mimetype": "text/x-python",
      "name": "python",
      "nbconvert_exporter": "python",
      "pygments_lexer": "ipython3",
      "version": "3.8.10"
    }
  },
  "nbformat": 4,
  "nbformat_minor": 5
}
